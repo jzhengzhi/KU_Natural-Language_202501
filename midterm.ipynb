{
  "nbformat": 4,
  "nbformat_minor": 0,
  "metadata": {
    "colab": {
      "provenance": [],
      "authorship_tag": "ABX9TyPPE436RIP52VxnGQ+/Kf7f",
      "include_colab_link": true
    },
    "kernelspec": {
      "name": "python3",
      "display_name": "Python 3"
    },
    "language_info": {
      "name": "python"
    }
  },
  "cells": [
    {
      "cell_type": "markdown",
      "metadata": {
        "id": "view-in-github",
        "colab_type": "text"
      },
      "source": [
        "<a href=\"https://colab.research.google.com/github/jzhengzhi/KU_Natural-Language_202501/blob/main/midterm.ipynb\" target=\"_parent\"><img src=\"https://colab.research.google.com/assets/colab-badge.svg\" alt=\"Open In Colab\"/></a>"
      ]
    },
    {
      "cell_type": "code",
      "execution_count": 46,
      "metadata": {
        "colab": {
          "base_uri": "https://localhost:8080/"
        },
        "id": "DJSuSrHxuq-9",
        "outputId": "f61d4ac9-244d-4233-98be-5c350ec90a1d"
      },
      "outputs": [
        {
          "output_type": "stream",
          "name": "stdout",
          "text": [
            "Requirement already satisfied: selenium in /usr/local/lib/python3.11/dist-packages (4.31.0)\n",
            "Requirement already satisfied: urllib3<3,>=1.26 in /usr/local/lib/python3.11/dist-packages (from urllib3[socks]<3,>=1.26->selenium) (2.4.0)\n",
            "Requirement already satisfied: trio~=0.17 in /usr/local/lib/python3.11/dist-packages (from selenium) (0.30.0)\n",
            "Requirement already satisfied: trio-websocket~=0.9 in /usr/local/lib/python3.11/dist-packages (from selenium) (0.12.2)\n",
            "Requirement already satisfied: certifi>=2021.10.8 in /usr/local/lib/python3.11/dist-packages (from selenium) (2025.1.31)\n",
            "Requirement already satisfied: typing_extensions~=4.9 in /usr/local/lib/python3.11/dist-packages (from selenium) (4.13.2)\n",
            "Requirement already satisfied: websocket-client~=1.8 in /usr/local/lib/python3.11/dist-packages (from selenium) (1.8.0)\n",
            "Requirement already satisfied: attrs>=23.2.0 in /usr/local/lib/python3.11/dist-packages (from trio~=0.17->selenium) (25.3.0)\n",
            "Requirement already satisfied: sortedcontainers in /usr/local/lib/python3.11/dist-packages (from trio~=0.17->selenium) (2.4.0)\n",
            "Requirement already satisfied: idna in /usr/local/lib/python3.11/dist-packages (from trio~=0.17->selenium) (3.10)\n",
            "Requirement already satisfied: outcome in /usr/local/lib/python3.11/dist-packages (from trio~=0.17->selenium) (1.3.0.post0)\n",
            "Requirement already satisfied: sniffio>=1.3.0 in /usr/local/lib/python3.11/dist-packages (from trio~=0.17->selenium) (1.3.1)\n",
            "Requirement already satisfied: wsproto>=0.14 in /usr/local/lib/python3.11/dist-packages (from trio-websocket~=0.9->selenium) (1.2.0)\n",
            "Requirement already satisfied: pysocks!=1.5.7,<2.0,>=1.5.6 in /usr/local/lib/python3.11/dist-packages (from urllib3[socks]<3,>=1.26->selenium) (1.7.1)\n",
            "Requirement already satisfied: h11<1,>=0.9.0 in /usr/local/lib/python3.11/dist-packages (from wsproto>=0.14->trio-websocket~=0.9->selenium) (0.16.0)\n"
          ]
        }
      ],
      "source": [
        "!pip install selenium"
      ]
    },
    {
      "cell_type": "code",
      "source": [
        "from selenium import webdriver\n",
        "from selenium.webdriver.common.by import By\n",
        "\n",
        "URL = \"https://mania.kr/g2/bbs/board.php?bo_table=nbatalk\"\n",
        "\n",
        "options = webdriver.ChromeOptions()\n",
        "options.add_argument(\" --headless\")\n",
        "options.add_argument(\" --disable-dev-shm-usage\")\n",
        "options.add_argument(\" --no-sandbox\")\n",
        "driver = webdriver.Chrome(options=options)\n",
        "driver.get(URL)\n",
        "print(driver.title)"
      ],
      "metadata": {
        "colab": {
          "base_uri": "https://localhost:8080/"
        },
        "id": "hDy7iE1xu6Nh",
        "outputId": "e5ef3d86-a007-4765-b2db-a7f820b121f9"
      },
      "execution_count": 58,
      "outputs": [
        {
          "output_type": "stream",
          "name": "stdout",
          "text": [
            "서버 이동 중\n"
          ]
        }
      ]
    },
    {
      "cell_type": "code",
      "source": [
        "list_subject_span = driver.find_elements(By.CLASS_NAME, 'list_subject_span')\n",
        "for tmp in list_subject_span:\n",
        "    print(tmp.text)"
      ],
      "metadata": {
        "colab": {
          "base_uri": "https://localhost:8080/"
        },
        "id": "6202BzKuwHFy",
        "outputId": "b8a8a3d0-c89c-4ec7-c7d8-c06c9a10051e"
      },
      "execution_count": 59,
      "outputs": [
        {
          "output_type": "stream",
          "name": "stdout",
          "text": [
            "2025 NBA 플레이오프 브라켓 업데이트\n",
            "\n",
            "쿠밍가가 골스 벗어나면 잊힌 선수가 되는거죠\n",
            "\n",
            "올 시즌 후 쿠밍가는 QO 없이 그냥 포기하는게 좋을 듯 …\n",
            "\n",
            "플옵 1라운드 마이애미 4차전 미첼·알렌 인터뷰 번역\n",
            "\n",
            "버틀러 너무좋다\n",
            "\n",
            "요키치가 플옵에선 기어 올려서 수비\n",
            "\n",
            "주관적인 서부 플옵 티어 정리(논리기반)\n",
            "\n",
            "존 스탁턴 vs 스코티 피펜\n",
            "\n",
            "디그린 혐오하지만 수비는 진짜네요.\n",
            "\n",
            "쿠밍가가 트레이드 가능한가요?\n",
            "\n",
            "쿠밍가는 꾸준히 게시판에 언급되네요.\n",
            "\n",
            "NBA 연기력 Goat(넘사벽)\n",
            "\n",
            "1라운드 가장 치열한 시리즈\n",
            "\n",
            "글쓰기 과제에 요키치를 그려간 세르비아 학생\n",
            "\n",
            "4차전 랜들의 활약상\n",
            "\n",
            "쿠밍가는 kbl 오면 mvp 할수있을듯요\n",
            "\n",
            "그린이 수비코치 하면\n",
            "\n",
            "합성 같은 드레이크 뮤비 속 춤추는 레너드\n",
            "\n",
            "보스턴한테 컨파 졌을때가 생각납니다\n",
            "\n",
            "핵어작전 성공유무의 판단기준이 뭔가요\n",
            "\n",
            "플옵 4경기 VORP순위\n",
            "\n",
            "목요일이 두렵습니다..\n",
            "\n",
            "[PO분석] 플레이오프 1라운드를 보고 있는 지금, 타운스-…\n",
            "\n",
            "주관적인 서부 플옵팀 티어정리\n",
            "\n",
            "울트라슈퍼빡브롱모드하면 레이커스가 역스윕 가능하겠죠…\n",
            "\n",
            "부친상을 당한 케빈 러브를 위로해주는 트리스탄 탐슨\n",
            "\n"
          ]
        }
      ]
    },
    {
      "cell_type": "code",
      "source": [
        "btn_page = driver.find_element(By.CSS_SELECTOR, 'i.fa.fa-angle-right')\n",
        "\n",
        "#overlapping_element = driver.find_element(By.CSS_SELECTOR, '#contents > div.prod_detail_footer')\n",
        "#driver.execute_script(\"arguments[0].remove()\", overlapping_element)"
      ],
      "metadata": {
        "id": "IMquisSPxfTN"
      },
      "execution_count": 60,
      "outputs": []
    },
    {
      "cell_type": "code",
      "source": [
        "from bs4 import BeautifulSoup\n",
        "html = driver.page_source\n",
        "soup = BeautifulSoup(html, 'html.parser')\n",
        "\n",
        "last_page = soup.select_one(\"#main_container > table > tbody > tr > td:nth-child(2) > ul > li.paging_num_li.paging_num_li_selected.smalleng.theme_box1 > span\")\n",
        "last_page_num = int(last_page.get_text())"
      ],
      "metadata": {
        "id": "zgiSWXvm5m3s"
      },
      "execution_count": 61,
      "outputs": []
    },
    {
      "cell_type": "code",
      "source": [
        "import time\n",
        "\n",
        "for n in range(last_page_num-1):\n",
        "  btn_page.click()\n",
        "  time.sleep(1)\n",
        "  list_subject_span = driver.find_elements(By.CLASS_NAME, 'list_subject_span')\n",
        "  for tmp in list_subject_span:\n",
        "      print(tmp.text)\n",
        "      print('===============================')\n",
        "\n",
        "driver.quit()"
      ],
      "metadata": {
        "colab": {
          "base_uri": "https://localhost:8080/"
        },
        "id": "vnOUSRUY6kNs",
        "outputId": "4b905539-9670-40ba-8f56-b026aacd5db9"
      },
      "execution_count": 63,
      "outputs": [
        {
          "output_type": "stream",
          "name": "stderr",
          "text": [
            "WARNING:urllib3.connectionpool:Retrying (Retry(total=2, connect=None, read=None, redirect=None, status=None)) after connection broken by 'NewConnectionError('<urllib3.connection.HTTPConnection object at 0x7c972e5499d0>: Failed to establish a new connection: [Errno 111] Connection refused')': /session/fba62ceaa91791321d8f24ca11d61f14\n",
            "WARNING:urllib3.connectionpool:Retrying (Retry(total=1, connect=None, read=None, redirect=None, status=None)) after connection broken by 'NewConnectionError('<urllib3.connection.HTTPConnection object at 0x7c972e54a6d0>: Failed to establish a new connection: [Errno 111] Connection refused')': /session/fba62ceaa91791321d8f24ca11d61f14\n",
            "WARNING:urllib3.connectionpool:Retrying (Retry(total=0, connect=None, read=None, redirect=None, status=None)) after connection broken by 'NewConnectionError('<urllib3.connection.HTTPConnection object at 0x7c972e9b5910>: Failed to establish a new connection: [Errno 111] Connection refused')': /session/fba62ceaa91791321d8f24ca11d61f14\n"
          ]
        }
      ]
    }
  ]
}