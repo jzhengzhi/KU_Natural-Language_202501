!pip install selenium

from selenium import webdriver
from selenium.webdriver.common.by import By

URL = "https://product.kyobobook.co.kr/detail/S000000620181"

options = webdriver.ChromeOptions()
options.add_argument(" --headless")
options.add_argument(" --disable-dev-shm-usage")
options.add_argument(" --no-sandbox")
driver = webdriver.Chrome(options=options)
driver.get(URL)
print(driver.title)
;
